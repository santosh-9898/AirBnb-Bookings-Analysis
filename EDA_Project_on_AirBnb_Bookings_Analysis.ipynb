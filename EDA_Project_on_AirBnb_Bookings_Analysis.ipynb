{
  "nbformat": 4,
  "nbformat_minor": 0,
  "metadata": {
    "colab": {
      "private_outputs": true,
      "provenance": []
    },
    "kernelspec": {
      "name": "python3",
      "display_name": "Python 3"
    },
    "language_info": {
      "name": "python"
    }
  },
  "cells": [
    {
      "cell_type": "markdown",
      "source": [
        "# **Project Name**    -  **AirBnb Bookings Analysis**\n",
        "\n"
      ],
      "metadata": {
        "id": "vncDsAP0Gaoa"
      }
    },
    {
      "cell_type": "markdown",
      "source": [
        "##### **Project Type**    - EDA\n",
        "##### **Contribution**    - Individual\n",
        "##### **Name -**          - Santosh Puri\n"
      ],
      "metadata": {
        "id": "beRrZCGUAJYm"
      }
    },
    {
      "cell_type": "markdown",
      "source": [
        "# **Project Summary -**"
      ],
      "metadata": {
        "id": "FJNUwmbgGyua"
      }
    },
    {
      "cell_type": "markdown",
      "source": [
        "In the project we are analyzing Airbnb’s New York City(NYC) data of 2019. NYC is not only the famous city in the world but also has top global destination for visitors attracted to its museums, entertainment, restaurants, UN offices and commerce.\n",
        "\n",
        "The project began with a comprehensive understanding of the Airbnb dataset, including data size, information like properties and their availability, price, location, reviews and ratings, exploring data related to Airbnb listings, including the number of properties listed, host characteristics, the variety of amenities available, and the occupancy rate of different properties etc. Further analysis of data to understand the significance of the reviews left by Airbnb users.\n",
        "\n",
        "Exploratory data analysis projects on Airbnb typically involve investigating patterns and trends in various aspects of the platform, such as pricing, popularity and availability of listings. This data can be used to gain insights into consumer behavior and preferences, as well as to inform marketing and business strategies for hosts and Airbnb as a company. Techniques such as data visualization and objective solution may be used to analyze the data and draw meaningful conclusions.\n",
        "\n",
        "In this type of analysis, data visualizations such as line plots, scatter plots, and bar charts are used to help identify trends, patterns, and relationships in the data. For instance, a bar chart can be used to show the distribution of properties across different neighbourhoods in a city.\n",
        "\n",
        "Overall, the exploratory data analysis provides crucial insights for the Airbnb platform to improve customer satisfaction and enhance rental revenues. The insights also benefitted renters who can use the data generated to gain a deeper understanding of the landscape and make informed decisions."
      ],
      "metadata": {
        "id": "F6v_1wHtG2nS"
      }
    },
    {
      "cell_type": "markdown",
      "source": [
        "# **GitHub Link -**"
      ],
      "metadata": {
        "id": "w6K7xa23Elo4"
      }
    },
    {
      "cell_type": "markdown",
      "source": [
        "Provide your GitHub Link here."
      ],
      "metadata": {
        "id": "h1o69JH3Eqqn"
      }
    },
    {
      "cell_type": "markdown",
      "source": [
        "# **Problem Statement**\n"
      ],
      "metadata": {
        "id": "yQaldy8SH6Dl"
      }
    },
    {
      "cell_type": "markdown",
      "source": [
        "**The purpose of this exploratory data analysis project is to analyze and examine the factors that influence customer bookings and preferences. The dataset used in this analysis includes information on customer demographics, subscription room type and location, minimum stays, retention rate and experience with service.**\n",
        "\n",
        "**The aim is to identify insights and patterns in the data that can help the company understand the drivers of customer retention and inform future decision-making regarding host listing, location, price and customer service and marketing strategies.**"
      ],
      "metadata": {
        "id": "DpeJGUA3kjGy"
      }
    },
    {
      "cell_type": "markdown",
      "source": [
        "#### **Define Your Business Objective?**"
      ],
      "metadata": {
        "id": "PH-0ReGfmX4f"
      }
    },
    {
      "cell_type": "markdown",
      "source": [
        "\n",
        "\n",
        "1.   Recommending marketing campaign strategies and predicting the destination neighbourhood which are in high demand.\n",
        "\n",
        "2.   Using Exploratory Data Analysis, find out the most demanded room type, neighbourhood_group.\n",
        "\n",
        "3.   Find the average days guests prefer to stay in single visit in different room type in varied neighbourhood_group.\n",
        "4.   Find out the most sought after Price bracket in which maximum booking happens and get most reviews.\n",
        "\n",
        "\n",
        "5. Find the neighbourhood_group in which maximum listings done by top hosts? Specify the reason behind it with your insight.\n",
        "\n",
        "\n",
        "\n"
      ],
      "metadata": {
        "id": "PhDvGCAqmjP1"
      }
    },
    {
      "cell_type": "markdown",
      "source": [
        "# **General Guidelines** : -  "
      ],
      "metadata": {
        "id": "mDgbUHAGgjLW"
      }
    },
    {
      "cell_type": "markdown",
      "source": [
        "1.   Well-structured, formatted, and commented code is required.\n",
        "2.   Exception Handling, Production Grade Code & Deployment Ready Code will be a plus. Those students will be awarded some additional credits.\n",
        "     \n",
        "     The additional credits will have advantages over other students during Star Student selection.\n",
        "       \n",
        "             [ Note: - Deployment Ready Code is defined as, the whole .ipynb notebook should be executable in one go\n",
        "                       without a single error logged. ]\n",
        "\n",
        "3.   Each and every logic should have proper comments.\n",
        "4. You may add as many number of charts you want. Make Sure for each and every chart the following format should be answered.\n",
        "        \n",
        "\n",
        "```\n",
        "# Chart visualization code\n",
        "```\n",
        "            \n",
        "\n",
        "*   Why did you pick the specific chart?\n",
        "*   What is/are the insight(s) found from the chart?\n",
        "* Will the gained insights help creating a positive business impact?\n",
        "Are there any insights that lead to negative growth? Justify with specific reason.\n",
        "\n",
        "5. You have to create at least 20 logical & meaningful charts having important insights.\n",
        "\n",
        "\n",
        "[ Hints : - Do the Vizualization in  a structured way while following \"UBM\" Rule.\n",
        "\n",
        "U - Univariate Analysis,\n",
        "\n",
        "B - Bivariate Analysis (Numerical - Categorical, Numerical - Numerical, Categorical - Categorical)\n",
        "\n",
        "M - Multivariate Analysis\n",
        " ]\n",
        "\n",
        "\n",
        "\n"
      ],
      "metadata": {
        "id": "ZrxVaUj-hHfC"
      }
    },
    {
      "cell_type": "markdown",
      "source": [
        "# ***Let's Begin !***"
      ],
      "metadata": {
        "id": "O_i_v8NEhb9l"
      }
    },
    {
      "cell_type": "markdown",
      "source": [
        "## ***1. Know Your Data***"
      ],
      "metadata": {
        "id": "HhfV-JJviCcP"
      }
    },
    {
      "cell_type": "markdown",
      "source": [
        "### Import Libraries"
      ],
      "metadata": {
        "id": "Y3lxredqlCYt"
      }
    },
    {
      "cell_type": "code",
      "source": [
        "# Import Libraries\n",
        "import pandas as pd\n",
        "import numpy as np\n",
        "import matplotlib.pyplot as plt\n",
        "%matplotlib inline\n",
        "import seaborn as sns\n",
        "from datetime import datetime\n",
        "import warnings\n",
        "warnings.filterwarnings('ignore')\n"
      ],
      "metadata": {
        "id": "M8Vqi-pPk-HR"
      },
      "execution_count": null,
      "outputs": []
    },
    {
      "cell_type": "markdown",
      "source": [
        "### Dataset Loading"
      ],
      "metadata": {
        "id": "3RnN4peoiCZX"
      }
    },
    {
      "cell_type": "code",
      "source": [
        "# Load Dataset\n",
        "file_path = '/content/drive/MyDrive/Data/Airbnb NYC 2019.csv'\n",
        "airbnb_df = pd.read_csv(file_path)"
      ],
      "metadata": {
        "id": "4CkvbW_SlZ_R"
      },
      "execution_count": null,
      "outputs": []
    },
    {
      "cell_type": "markdown",
      "source": [
        "### Dataset First View"
      ],
      "metadata": {
        "id": "x71ZqKXriCWQ"
      }
    },
    {
      "cell_type": "code",
      "source": [
        "# Dataset First Look\n",
        "airbnb_df.head()"
      ],
      "metadata": {
        "id": "LWNFOSvLl09H"
      },
      "execution_count": null,
      "outputs": []
    },
    {
      "cell_type": "code",
      "source": [
        "# Cheking what are the variables here:\n",
        "airbnb_df.columns"
      ],
      "metadata": {
        "id": "HPs-fjw7Wm9K"
      },
      "execution_count": null,
      "outputs": []
    },
    {
      "cell_type": "markdown",
      "source": [
        "*   **so now first rename few columns for better understanding of variables -**"
      ],
      "metadata": {
        "id": "gEVAhDw5W19H"
      }
    },
    {
      "cell_type": "code",
      "source": [
        "rename_col = {'listing_id':'id','listing_name':'name','total_reviews':'number_of_reviews','host_listing_count':'calculated_host_listing_count'}"
      ],
      "metadata": {
        "id": "CpU8zPp6W49T"
      },
      "execution_count": null,
      "outputs": []
    },
    {
      "cell_type": "code",
      "source": [
        "# Use a pandas function to rename the current function\n",
        "airbnb_df = airbnb_df.rename(columns = rename_col)\n",
        "airbnb_df.head(2)"
      ],
      "metadata": {
        "id": "5JphdSBnXlV_"
      },
      "execution_count": null,
      "outputs": []
    },
    {
      "cell_type": "markdown",
      "source": [
        "### Dataset Rows & Columns count"
      ],
      "metadata": {
        "id": "7hBIi_osiCS2"
      }
    },
    {
      "cell_type": "code",
      "source": [
        "# Dataset Rows & Columns count\n",
        "airbnb_df.shape"
      ],
      "metadata": {
        "id": "Kllu7SJgmLij"
      },
      "execution_count": null,
      "outputs": []
    },
    {
      "cell_type": "markdown",
      "source": [
        "### Dataset Information"
      ],
      "metadata": {
        "id": "JlHwYmJAmNHm"
      }
    },
    {
      "cell_type": "code",
      "source": [
        "# Dataset Info\n",
        "airbnb_df.info()"
      ],
      "metadata": {
        "id": "e9hRXRi6meOf"
      },
      "execution_count": null,
      "outputs": []
    },
    {
      "cell_type": "markdown",
      "source": [
        "**So, host_name, neighbourhood_group, neighbourhood and room_type fall into categorical variable category.**\n",
        "\n",
        "**While host_id, latitude, longitude, price, minimum_nights, number_of_reviews, last_review, reviews_per_month, host_listings_count, availability_365 are numerical variables**"
      ],
      "metadata": {
        "id": "6555NYgbVsoN"
      }
    },
    {
      "cell_type": "markdown",
      "source": [
        "#### Duplicate Values"
      ],
      "metadata": {
        "id": "35m5QtbWiB9F"
      }
    },
    {
      "cell_type": "code",
      "source": [
        "# Dataset Duplicate Value Count\n",
        "len(airbnb_df[airbnb_df.duplicated()]) # at this point looks like doesn't have duplicatef values"
      ],
      "metadata": {
        "id": "1sLdpKYkmox0"
      },
      "execution_count": null,
      "outputs": []
    },
    {
      "cell_type": "markdown",
      "source": [
        "#### Missing Values/Null Values"
      ],
      "metadata": {
        "id": "PoPl-ycgm1ru"
      }
    },
    {
      "cell_type": "code",
      "source": [
        "# Missing Values/Null Values Count\n",
        "print(airbnb_df.isnull().sum()) # only for columns has null value"
      ],
      "metadata": {
        "id": "GgHWkxvamxVg"
      },
      "execution_count": null,
      "outputs": []
    },
    {
      "cell_type": "code",
      "source": [
        "# Visualizing the missing values\n",
        "# Checking Null Values by plotting Heatmap\n",
        "sns.heatmap(airbnb_df.isnull(), cbar=False)"
      ],
      "metadata": {
        "id": "BOggOIL3aBfN"
      },
      "execution_count": null,
      "outputs": []
    },
    {
      "cell_type": "markdown",
      "source": [
        "**host_name** and **listing_name** are not that much of null values, so first  we are good to fill those with some substitutes in both the columns first."
      ],
      "metadata": {
        "id": "pDSW8KA5WGvc"
      }
    },
    {
      "cell_type": "code",
      "source": [
        "airbnb_df['name'].fillna('unknown', inplace=True)\n",
        "airbnb_df['host_name'].fillna('no_name', inplace=True)"
      ],
      "metadata": {
        "id": "23FEkT0qY9vC"
      },
      "execution_count": null,
      "outputs": []
    },
    {
      "cell_type": "code",
      "source": [
        "# So the null values are removed\n",
        "airbnb_df[['host_name','name']].isnull().sum()"
      ],
      "metadata": {
        "id": "CbXS__V0Zbmp"
      },
      "execution_count": null,
      "outputs": []
    },
    {
      "cell_type": "markdown",
      "source": [
        "now, the columns **last_review** and **reviews_per_month** have total 10052 null values each.\n",
        "\n",
        "**last_review** column is not required for our analysis as compared to **number_of_reviews** & **reviews_per_month**. We're good to drop this column.\n",
        "\n",
        "**listing_id** also not that much of important for our analysis but i dont remove because of **listing_id** and **listing_name** is pair and removing listing_id it still wont make much difference."
      ],
      "metadata": {
        "id": "KdVywfRYagkK"
      }
    },
    {
      "cell_type": "code",
      "source": [
        "airbnb_df = airbnb_df.drop(['last_review'], axis=1) #removing last_review column beacause of not that much important"
      ],
      "metadata": {
        "id": "3q5wnI3om9sJ"
      },
      "execution_count": null,
      "outputs": []
    },
    {
      "cell_type": "markdown",
      "source": [
        "The **reviews_per_month** column also containing null values and we can simple put 0 reviews by replacing NAN's"
      ],
      "metadata": {
        "id": "hf4izKxvbJql"
      }
    },
    {
      "cell_type": "code",
      "source": [
        "airbnb_df['reviews_per_month'] = airbnb_df['reviews_per_month'].replace(to_replace=np.nan,value=0).astype('int64')"
      ],
      "metadata": {
        "id": "ScoNlVNdaxmS"
      },
      "execution_count": null,
      "outputs": []
    },
    {
      "cell_type": "code",
      "source": [
        "# checking null values of each columns\n",
        "airbnb_df.isnull().sum()"
      ],
      "metadata": {
        "id": "h3S0dgiQbvPS"
      },
      "execution_count": null,
      "outputs": []
    },
    {
      "cell_type": "markdown",
      "source": [
        "### What did you know about your dataset?"
      ],
      "metadata": {
        "id": "8sIhfAcldHjO"
      }
    },
    {
      "cell_type": "markdown",
      "source": [
        "*   **id:** Unique Id\n",
        "\n",
        "*   **name:** Name Of The Listing\n",
        "\n",
        "*   **host_id:** Unique host_id\n",
        "\n",
        "*   **host_name:** Name Of The Host\n",
        "*   **neighbourhood_group:** Location\n",
        "\n",
        "\n",
        "*   **neighbourhood:** Area\n",
        "\n",
        "*   **latitude:** latitude Range\n",
        "\n",
        "\n",
        "*   **longitude:** Longtitude Range\n",
        "\n",
        "\n",
        "*   **room_type:** Type Of Listing\n",
        "\n",
        "*   **price:** Price Of Listing\n",
        "\n",
        "*   **minimum_nights:** Minimum nigths to be paid for\n",
        "\n",
        "*   **number_of_reviews:** Number of review\n",
        "*   **last_review:** Content of the last review\n",
        "\n",
        "\n",
        "*   **reviews_per_month:** Number of Checks per month\n",
        "\n",
        "\n",
        "*   **calculated_host_listings_count:** Total Count\n",
        "\n",
        "*   **availability_365:**Availability around the year\n",
        "\n",
        "\n",
        "\n",
        "\n",
        "\n",
        "\n",
        "\n",
        "\n",
        "\n",
        "\n",
        "\n",
        "\n",
        "\n"
      ],
      "metadata": {
        "id": "aJV4KIxSnxay"
      }
    },
    {
      "cell_type": "markdown",
      "source": [
        "## ***2. Understanding Your Variables***"
      ],
      "metadata": {
        "id": "WLCR-INMdaUn"
      }
    },
    {
      "cell_type": "code",
      "source": [
        "# Dataset Columns\n",
        "airbnb_df.columns"
      ],
      "metadata": {
        "id": "8tRyG8mgdbiJ"
      },
      "execution_count": null,
      "outputs": []
    },
    {
      "cell_type": "code",
      "source": [
        "# Dataset Describe\n",
        "airbnb_df.describe(include='all')"
      ],
      "metadata": {
        "id": "TbTUKuV6qYR7"
      },
      "execution_count": null,
      "outputs": []
    },
    {
      "cell_type": "markdown",
      "source": [
        "## **Variables Description**"
      ],
      "metadata": {
        "id": "PQ7JMz3ircD3"
      }
    },
    {
      "cell_type": "markdown",
      "source": [
        "***So, we get to know that some columns falls under categorical and remaining are numeriacal except one last_review comes under Date_Time category.***\n",
        "\n",
        "\n",
        "\n",
        "*   Categorical variable : name, host_name, neighbourhood_group, neighbourhood, room_type, price\n",
        "\n",
        "* Numerical variable : id, host_id, price, minimum_nights, number_of_reviews, reviews_per_month, calculated_host_listings_count, availability_365\n",
        "*  Date_Time variable : last_review\n",
        "\n",
        "\n",
        "*   Coordinates : latitude, longitude\n",
        "\n"
      ],
      "metadata": {
        "id": "P50sj4cYrmHN"
      }
    },
    {
      "cell_type": "markdown",
      "source": [
        "### Check Unique Values for each variable."
      ],
      "metadata": {
        "id": "u3PMJOP6ngxN"
      }
    },
    {
      "cell_type": "code",
      "source": [
        "# Check Unique Values for each variable.\n",
        "airbnb_df['id'].nunique()"
      ],
      "metadata": {
        "id": "zms12Yq5n-jE"
      },
      "execution_count": null,
      "outputs": []
    },
    {
      "cell_type": "code",
      "source": [
        "airbnb_df['name'].nunique() # show some listing are common"
      ],
      "metadata": {
        "id": "HTRlS3VdtfB1"
      },
      "execution_count": null,
      "outputs": []
    },
    {
      "cell_type": "code",
      "source": [
        "airbnb_df['host_id'].nunique() # shows that as many as 20k host_id are reapeted"
      ],
      "metadata": {
        "id": "_mBMccdlt2Ux"
      },
      "execution_count": null,
      "outputs": []
    },
    {
      "cell_type": "code",
      "source": [
        "airbnb_df['host_name'].unique()\n",
        "airbnb_df.host_name.nunique()   #11.5k hosts and 49k listings shows single host have multiple listings."
      ],
      "metadata": {
        "id": "1iltobuGuFDc"
      },
      "execution_count": null,
      "outputs": []
    },
    {
      "cell_type": "code",
      "source": [
        "(airbnb_df['neighbourhood_group'].value_counts()) # area of the city"
      ],
      "metadata": {
        "id": "kxsFN-hIuMz8"
      },
      "execution_count": null,
      "outputs": []
    },
    {
      "cell_type": "code",
      "source": [
        "airbnb_df['neighbourhood'].nunique()  #no. of neighbourhood"
      ],
      "metadata": {
        "id": "45plLQhNu5p2"
      },
      "execution_count": null,
      "outputs": []
    },
    {
      "cell_type": "code",
      "source": [
        "airbnb_df[\"room_type\"].value_counts() # room type listing count"
      ],
      "metadata": {
        "id": "c5pl43cxu9cm"
      },
      "execution_count": null,
      "outputs": []
    },
    {
      "cell_type": "code",
      "source": [
        "price_value_counts = airbnb_df[\"price\"].value_counts()\n",
        "\n",
        "price_value_counts.sort_index()      #shows 673 different prices ranging from 0 to 10k\n"
      ],
      "metadata": {
        "id": "G1kMlixAvHfv"
      },
      "execution_count": null,
      "outputs": []
    },
    {
      "cell_type": "code",
      "source": [
        "airbnb_df[\"calculated_host_listings_count\"].unique()"
      ],
      "metadata": {
        "id": "j8lOM8dNvZr3"
      },
      "execution_count": null,
      "outputs": []
    },
    {
      "cell_type": "markdown",
      "source": [
        "## 3. ***Data Wrangling***"
      ],
      "metadata": {
        "id": "dauF4eBmngu3"
      }
    },
    {
      "cell_type": "markdown",
      "source": [
        "### Data Wrangling Code"
      ],
      "metadata": {
        "id": "bKJF3rekwFvQ"
      }
    },
    {
      "cell_type": "code",
      "source": [
        "# Write your code to make your dataset analysis ready.\n",
        "# Dropping unnecesesary columns\n",
        "airbnb_df.drop(['id'], axis=1, inplace=True)"
      ],
      "metadata": {
        "id": "wk-9a2fpoLcV"
      },
      "execution_count": null,
      "outputs": []
    },
    {
      "cell_type": "code",
      "source": [
        "# Examining changes after droping unnecessary columns\n",
        "airbnb_df.head()"
      ],
      "metadata": {
        "id": "AQgVTeyGwawa"
      },
      "execution_count": null,
      "outputs": []
    },
    {
      "cell_type": "code",
      "source": [
        "airbnb_df.tail()"
      ],
      "metadata": {
        "id": "aq6nR-qwyeJX"
      },
      "execution_count": null,
      "outputs": []
    },
    {
      "cell_type": "code",
      "source": [
        "len(airbnb_df[airbnb_df['availability_365']==0])"
      ],
      "metadata": {
        "id": "NBDxsRrGyzxw"
      },
      "execution_count": null,
      "outputs": []
    },
    {
      "cell_type": "code",
      "source": [
        "len(airbnb_df[airbnb_df['price']==0])"
      ],
      "metadata": {
        "id": "Akn_8oJFzGg9"
      },
      "execution_count": null,
      "outputs": []
    },
    {
      "cell_type": "code",
      "source": [
        "len(airbnb_df[airbnb_df['price']<10])"
      ],
      "metadata": {
        "id": "p-srSMxozMt6"
      },
      "execution_count": null,
      "outputs": []
    },
    {
      "cell_type": "code",
      "source": [
        "index_names = airbnb_df[(airbnb_df[\"price\"]==0)].index\n",
        "airbnb_df.drop(index_names, inplace = True)"
      ],
      "metadata": {
        "id": "dB1ohMsbzUii"
      },
      "execution_count": null,
      "outputs": []
    },
    {
      "cell_type": "code",
      "source": [
        "len(airbnb_df[airbnb_df['price']>=500])"
      ],
      "metadata": {
        "id": "4YtUeCgm0_cS"
      },
      "execution_count": null,
      "outputs": []
    },
    {
      "cell_type": "code",
      "source": [
        "airbnb_df.info()"
      ],
      "metadata": {
        "id": "WdcVoSJD1SGr"
      },
      "execution_count": null,
      "outputs": []
    },
    {
      "cell_type": "code",
      "source": [
        "airbnb_df['host_name'].value_counts()[:5] # top 5 host listing counts in entries"
      ],
      "metadata": {
        "id": "FiNXWEJ91cgn"
      },
      "execution_count": null,
      "outputs": []
    },
    {
      "cell_type": "code",
      "source": [
        "#Maximum listings by hosts in entire dataset with unique listings within neighbourhood_group and this table gives partial answer for 5th objective.\n",
        "hosts_listings = airbnb_df.groupby(['host_name','host_id','neighbourhood_group'])['calculated_host_listings_count'].max().reset_index()\n",
        "hosts_listings.sort_values('calculated_host_listings_count', ascending=False,).head(10)"
      ],
      "metadata": {
        "id": "aTvSmMlD18Zh"
      },
      "execution_count": null,
      "outputs": []
    },
    {
      "cell_type": "code",
      "source": [
        "airbnb_df.loc[(airbnb_df['neighbourhood_group']=='Manhattan') & (airbnb_df['host_name']=='John')]\n",
        "#Same hosts have many listings in same neighbourhood_groups with different room type or same/different room_type in other neighbporhood\n"
      ],
      "metadata": {
        "id": "sGakFt0o4mq8"
      },
      "execution_count": null,
      "outputs": []
    },
    {
      "cell_type": "markdown",
      "source": [
        "### What all manipulations have you done and insights you found?"
      ],
      "metadata": {
        "id": "MSa1f5Uengrz"
      }
    },
    {
      "cell_type": "markdown",
      "source": [
        "**From the above experiments we get some more insights like :**\n",
        "*   Entire home/apt have highest listings followed by Private room and Shared room have miniscule conteibution.\n",
        "*   Unique host_name number and above experiment shows that one host have many roomtype and/or more than one listing in same and/or different neighbourhood.\n",
        "*   Overall listing has distibuted in 5 neighbourhood_group which are having over 200 neighbourhoods. Its price goes upto 10k.\n",
        "*   After inspection I figured out that a particular property name have one particular host_name hosted by that same individual but a particular host_name can have multiple properties in a neighbourhood_group or neighbourhood.\n",
        "*   From the unique ids we get to know that all the property ids are different and each listings are different here.\n",
        "*   By experimenting we get to know that in columns \"price\" and \"availability_365\" shows zero cost and not available throughout year respectively. Hosts not available round the justifies but zero Price doesn't."
      ],
      "metadata": {
        "id": "LbyXE7I1olp8"
      }
    },
    {
      "cell_type": "markdown",
      "source": [
        "## ***4. Data Vizualization, Storytelling & Experimenting with charts : Understand the relationships between variables***"
      ],
      "metadata": {
        "id": "GF8Ens_Soomf"
      }
    },
    {
      "cell_type": "markdown",
      "source": [
        "#### Chart - 1    **Top neighbourhoods in entire NYC on the basis of count of listings Using Lineplot**"
      ],
      "metadata": {
        "id": "0wOQAZs5pc--"
      }
    },
    {
      "cell_type": "code",
      "source": [
        "top_20_neigbours= airbnb_df['neighbourhood'].value_counts()[:20] #checking top 20 neighbourhoods on the basis of no of listings in entire NYC!\n",
        "top_20_neigbours.plot(kind='bar',color='chocolate')\n",
        "plt.xlabel('neighbourhood')\n",
        "plt.ylabel('counts in entire NYC')\n",
        "plt.title('Top neighbourhoods in entire NYC on the basis of count of listings')"
      ],
      "metadata": {
        "id": "7v_ESjsspbW7"
      },
      "execution_count": null,
      "outputs": []
    },
    {
      "cell_type": "markdown",
      "source": [
        "##### 1. Why did you pick the specific chart?"
      ],
      "metadata": {
        "id": "K5QZ13OEpz2H"
      }
    },
    {
      "cell_type": "markdown",
      "source": [
        "This chart shows the which neighbourhood had most no of booking."
      ],
      "metadata": {
        "id": "XESiWehPqBRc"
      }
    },
    {
      "cell_type": "markdown",
      "source": [
        "##### 2. What is/are the insight(s) found from the chart?"
      ],
      "metadata": {
        "id": "lQ7QKXXCp7Bj"
      }
    },
    {
      "cell_type": "markdown",
      "source": [
        "Williamsburg ,Bedford-Stuyvesant and Harlem are top 3 neighbouhood which has most no of booking"
      ],
      "metadata": {
        "id": "C_j1G7yiqdRP"
      }
    },
    {
      "cell_type": "markdown",
      "source": [
        "##### 3. Will the gained insights help creating a positive business impact?\n",
        "Are there any insights that lead to negative growth? Justify with specific reason."
      ],
      "metadata": {
        "id": "448CDAPjqfQr"
      }
    },
    {
      "cell_type": "markdown",
      "source": [
        "With the help of this data we can find target places to improve services at those and it will also help to get profit by limiting the advertisement market area so we can minimize the cost and increase the profit."
      ],
      "metadata": {
        "id": "3cspy4FjqxJW"
      }
    },
    {
      "cell_type": "markdown",
      "source": [
        "#### Chart - **(2) average price in different neighbourhood_groups using Bar plot**"
      ],
      "metadata": {
        "id": "KSlN3yHqYklG"
      }
    },
    {
      "cell_type": "code",
      "source": [
        "avg_price = airbnb_df.groupby(['neighbourhood_group'])['price'].mean()\n",
        "a = avg_price.plot.bar(figsize=(5,5), fontsize = 10)\n",
        "a.set_xlabel(\"neighbourhood group\", fontsize=11)\n",
        "a.set_ylabel(\"average price\",fontsize=11)\n",
        "a.set_title(\"averae price in different neighbourhood groups\", fontsize=12);"
      ],
      "metadata": {
        "id": "R4YgtaqtYklH"
      },
      "execution_count": null,
      "outputs": []
    },
    {
      "cell_type": "markdown",
      "source": [
        "##### 1. Why did you pick the specific chart?"
      ],
      "metadata": {
        "id": "t6dVpIINYklI"
      }
    },
    {
      "cell_type": "markdown",
      "source": [
        "This chart shows price difference between the neighbourhood groups"
      ],
      "metadata": {
        "id": "5aaW0BYyYklI"
      }
    },
    {
      "cell_type": "markdown",
      "source": [
        "##### 2. What is/are the insight(s) found from the chart?"
      ],
      "metadata": {
        "id": "ijmpgYnKYklI"
      }
    },
    {
      "cell_type": "markdown",
      "source": [
        "The chart shows that Manhattan has the most average price in the neighbourhood group. This shows the demand for the Manhatten over others."
      ],
      "metadata": {
        "id": "PSx9atu2YklI"
      }
    },
    {
      "cell_type": "markdown",
      "source": [
        "##### 3. Will the gained insights help creating a positive business impact?\n",
        "Are there any insights that lead to negative growth? Justify with specific reason."
      ],
      "metadata": {
        "id": "-JiQyfWJYklI"
      }
    },
    {
      "cell_type": "markdown",
      "source": [
        "The higher average price shows more listing price can be feasible for making more profit as well as more listings can be done in the high demand neighboourhood. And spend on offline advertising accordingly."
      ],
      "metadata": {
        "id": "BcBbebzrYklV"
      }
    },
    {
      "cell_type": "markdown",
      "source": [
        "#### Chart - **%_of_booking_neighbourhood_group using pie chart**"
      ],
      "metadata": {
        "id": "EM7whBJCYoAo"
      }
    },
    {
      "cell_type": "code",
      "source": [
        "# Chart - 3 visualization code\n",
        "fig, axes = plt.subplots(nrows=1, ncols=2, figsize=(6, 22))\n",
        "ax = axes.flatten()\n",
        "\n",
        "no_of_booking_neighbourhood_group = airbnb_df[\"neighbourhood_group\"].value_counts()\n",
        "no_of_booking_neighbourhood_group.plot.pie(autopct='%1.2f%%', ylabel = \"\",figsize=(8,8), ax=ax[0])\n",
        "plt.title('%_of_booking_neighbourhood_group', fontsize = 12)\n",
        "\n",
        "airbnb_df['neighbourhood_group'].value_counts().plot(kind='bar', figsize =(15,6), color=['r','b','y','g','m'], ax=ax[1]);"
      ],
      "metadata": {
        "id": "t6GMdE67YoAp"
      },
      "execution_count": null,
      "outputs": []
    },
    {
      "cell_type": "markdown",
      "source": [
        "##### 1. Why did you pick the specific chart?"
      ],
      "metadata": {
        "id": "fge-S5ZAYoAp"
      }
    },
    {
      "cell_type": "markdown",
      "source": [
        "This chart shows the percentages of booking done in different neighbourhood group as well as second chart gives information about which Neighbourhood group has how many bookings.\n",
        "\n"
      ],
      "metadata": {
        "id": "5dBItgRVYoAp"
      }
    },
    {
      "cell_type": "markdown",
      "source": [
        "##### 2. What is/are the insight(s) found from the chart?"
      ],
      "metadata": {
        "id": "85gYPyotYoAp"
      }
    },
    {
      "cell_type": "markdown",
      "source": [
        "This chart shows that only Manhattan and Brooklyn have more than 85% of orders. This way we can list more properties by targetting particular Neighbourhood group at the begining.\n",
        "\n"
      ],
      "metadata": {
        "id": "4jstXR6OYoAp"
      }
    },
    {
      "cell_type": "markdown",
      "source": [
        "##### 3. Will the gained insights help creating a positive business impact?\n",
        "Are there any insights that lead to negative growth? Justify with specific reason."
      ],
      "metadata": {
        "id": "RoGjAbkUYoAp"
      }
    },
    {
      "cell_type": "markdown",
      "source": [
        "The gained insights will help to increase business by targeting particular area of market which have higher number of orders and booking. Keep track of no of listings in the area, keep eye on percentage occupancy to make sure the demand and supply doesn't mismatch."
      ],
      "metadata": {
        "id": "zfJ8IqMcYoAp"
      }
    },
    {
      "cell_type": "markdown",
      "source": [
        "#### Chart - 4 most demanded room type using Bar plot"
      ],
      "metadata": {
        "id": "4Of9eVA-YrdM"
      }
    },
    {
      "cell_type": "code",
      "source": [
        "# Chart - 4 visualization code for finding most demanded room type\n",
        "most_demand_room = airbnb_df.groupby(['room_type'])[\"host_id\"].count()\n",
        "b = most_demand_room.plot.bar(figsize = (4,4), fontsize=10)\n",
        "b.set_xlabel('room type', fontsize = 12)\n",
        "b.set_ylabel(\"no of booking\", fontsize = 12)\n",
        "b.set_title(\"most demanded room type\", fontsize= 14);"
      ],
      "metadata": {
        "id": "irlUoxc8YrdO"
      },
      "execution_count": null,
      "outputs": []
    },
    {
      "cell_type": "markdown",
      "source": [
        "##### 1. Why did you pick the specific chart?"
      ],
      "metadata": {
        "id": "iky9q4vBYrdO"
      }
    },
    {
      "cell_type": "markdown",
      "source": [
        "This chart shows that which room type is in most demand."
      ],
      "metadata": {
        "id": "aJRCwT6DYrdO"
      }
    },
    {
      "cell_type": "markdown",
      "source": [
        "##### 2. What is/are the insight(s) found from the chart?"
      ],
      "metadata": {
        "id": "F6T5p64dYrdO"
      }
    },
    {
      "cell_type": "markdown",
      "source": [
        "From this chart we found that shared room is least in demand and most demand room type is entire house/apt, people like to rent a entire house/apt followed by shared room. So data suggests to make sure availability and service of demanded room type."
      ],
      "metadata": {
        "id": "Xx8WAJvtYrdO"
      }
    },
    {
      "cell_type": "markdown",
      "source": [
        "##### 3. Will the gained insights help creating a positive business impact?\n",
        "Are there any insights that lead to negative growth? Justify with specific reason."
      ],
      "metadata": {
        "id": "y-Ehk30pYrdP"
      }
    },
    {
      "cell_type": "markdown",
      "source": [
        "It help us to know that most people want entire house/apt for rent so that according to our data we will try to make/list/availability most no. of rental properties as entire house/apt or private rooms."
      ],
      "metadata": {
        "id": "jLNxxz7MYrdP"
      }
    },
    {
      "cell_type": "markdown",
      "source": [
        "#### Chart - 5 Aaverage prices of different room types"
      ],
      "metadata": {
        "id": "bamQiAODYuh1"
      }
    },
    {
      "cell_type": "code",
      "source": [
        "# Chart - 5 visualization code  this time we will try to find out average prices of different room types\n",
        "\n",
        "new = airbnb_df.groupby([\"room_type\"])['price'].mean()\n",
        "chart5 = new.plot.bar(figsize = (4,4), fontsize = 10)\n",
        "chart5.set_xlabel(\"room type\", fontsize = 12)\n",
        "chart5.set_ylabel('average price', fontsize = 12)\n",
        "chart5.set_title('average price in different room type', fontsize = 14);"
      ],
      "metadata": {
        "id": "TIJwrbroYuh3"
      },
      "execution_count": null,
      "outputs": []
    },
    {
      "cell_type": "markdown",
      "source": [
        "##### 1. Why did you pick the specific chart?"
      ],
      "metadata": {
        "id": "QHF8YVU7Yuh3"
      }
    },
    {
      "cell_type": "markdown",
      "source": [
        "To get the idea of average price of room type wrt their demand/occupancy as\n",
        "\n",
        "showed in earlier one chart."
      ],
      "metadata": {
        "id": "dcxuIMRPYuh3"
      }
    },
    {
      "cell_type": "markdown",
      "source": [
        "##### 2. What is/are the insight(s) found from the chart?"
      ],
      "metadata": {
        "id": "GwzvFGzlYuh3"
      }
    },
    {
      "cell_type": "markdown",
      "source": [
        "This Chart shows shows the average mean price of Entire home/apt is higher as compared to remaining two room types. This also give us profit oriented new listing approach for all stakeholders benefits.\n",
        "\n"
      ],
      "metadata": {
        "id": "zBkg5MEAKzSX"
      }
    },
    {
      "cell_type": "markdown",
      "source": [
        "##### 3. Will the gained insights help creating a positive business impact?\n",
        "Are there any insights that lead to negative growth? Justify with specific reason."
      ],
      "metadata": {
        "id": "qYpmQ266Yuh3"
      }
    },
    {
      "cell_type": "markdown",
      "source": [
        "This Chart attracts special attention to make sure the avalability as well as best service for this room type for overall positive customer sentiments and good reviews."
      ],
      "metadata": {
        "id": "_WtzZ_hCYuh4"
      }
    },
    {
      "cell_type": "markdown",
      "source": [
        "#### Chart - 6  Average Stays in different room types"
      ],
      "metadata": {
        "id": "OH-pJp9IphqM"
      }
    },
    {
      "cell_type": "code",
      "source": [
        "# Chart - 6 visualization code Average Stays in different room types\n",
        "airbnb_df.groupby('room_type')['minimum_nights'].mean().plot(figsize=(4,4), kind='bar', color='chocolate')\n",
        "plt.title('Average Stays in different room types', fontsize = 14)\n",
        "plt.xlabel('Room types', fontsize = 12)\n",
        "plt.ylabel('Average Stays' , fontsize = 12);"
      ],
      "metadata": {
        "id": "kuRf4wtuphqN"
      },
      "execution_count": null,
      "outputs": []
    },
    {
      "cell_type": "markdown",
      "source": [
        "##### 1. Why did you pick the specific chart?"
      ],
      "metadata": {
        "id": "bbFf2-_FphqN"
      }
    },
    {
      "cell_type": "markdown",
      "source": [
        "We choose this chart to show the average nights stays in different room types."
      ],
      "metadata": {
        "id": "loh7H2nzphqN"
      }
    },
    {
      "cell_type": "markdown",
      "source": [
        "##### 2. What is/are the insight(s) found from the chart?"
      ],
      "metadata": {
        "id": "_ouA3fa0phqN"
      }
    },
    {
      "cell_type": "markdown",
      "source": [
        "This chart gives us information about making adequate facilities for average days and when respective room type going to available again for booking."
      ],
      "metadata": {
        "id": "VECbqPI7phqN"
      }
    },
    {
      "cell_type": "markdown",
      "source": [
        "##### 3. Will the gained insights help creating a positive business impact?\n",
        "Are there any insights that lead to negative growth? Justify with specific reason."
      ],
      "metadata": {
        "id": "Seke61FWphqN"
      }
    },
    {
      "cell_type": "markdown",
      "source": [
        "By this chart we can derive business profit by making basic calculations like no of times respective room type can be available for booking in a month and accordingly we have to decide booking price considering expenses."
      ],
      "metadata": {
        "id": "DW4_bGpfphqN"
      }
    },
    {
      "cell_type": "markdown",
      "source": [
        "#### Chart - 7 Visualization of each neighbourhood_group using latitude and longitude"
      ],
      "metadata": {
        "id": "PIIx-8_IphqN"
      }
    },
    {
      "cell_type": "code",
      "source": [
        "# Chart - 7 visualization code\n",
        "# chart visualization of each neighbourhood_group using latitude and longitude\n",
        "plt.figure(figsize=(12,6))\n",
        "sns.scatterplot(x = airbnb_df['longitude'], y = airbnb_df['latitude'], hue = airbnb_df['neighbourhood_group'])\n",
        "plt.show()"
      ],
      "metadata": {
        "id": "lqAIGUfyphqO"
      },
      "execution_count": null,
      "outputs": []
    },
    {
      "cell_type": "markdown",
      "source": [
        "##### 1. Why did you pick the specific chart?"
      ],
      "metadata": {
        "id": "t27r6nlMphqO"
      }
    },
    {
      "cell_type": "markdown",
      "source": [
        "This chart shows the location wrt longitude and latitude of different neighbourhood groups in the city."
      ],
      "metadata": {
        "id": "iv6ro40sphqO"
      }
    },
    {
      "cell_type": "markdown",
      "source": [
        "##### 2. What is/are the insight(s) found from the chart?"
      ],
      "metadata": {
        "id": "r2jJGEOYphqO"
      }
    },
    {
      "cell_type": "markdown",
      "source": [
        "The Scatter plot shows Manhattan and Brooklyn has almost similar longitude that's why they both garner almost 85% of bookings. And Staten Island belongs to outskirts so has less bookings as well as listings."
      ],
      "metadata": {
        "id": "Po6ZPi4hphqO"
      }
    },
    {
      "cell_type": "markdown",
      "source": [
        "##### 3. Will the gained insights help creating a positive business impact?\n",
        "Are there any insights that lead to negative growth? Justify with specific reason."
      ],
      "metadata": {
        "id": "b0JNsNcRphqO"
      }
    },
    {
      "cell_type": "markdown",
      "source": [
        "This chart shows locations nearer to the prime hotspots can garner more bookings hence we try hard to list more number of demanding room type and increase overall revenue by attracting customer."
      ],
      "metadata": {
        "id": "xvSq8iUTphqO"
      }
    },
    {
      "cell_type": "markdown",
      "source": [
        "#### Chart - 8  Room Availability throughout Neighbourhood/Room Type"
      ],
      "metadata": {
        "id": "BZR9WyysphqO"
      }
    },
    {
      "cell_type": "code",
      "source": [
        "# Chart - 8 visualization code Room Availability throughout Neighbourhood/Room Type\n",
        "fig, axes = plt.subplot(nrows = 1, ncols = 2, figsize=(22,6))\n",
        "ax = axes.flatten()\n",
        "\n",
        "sns.lineplot(data=airbnb_df, x='neighbourhood_group', y='availability_365', hue='room_type', ax=ax[0])\n",
        "ax[0].set_title('Room Availability throughout Neighbourhood/Room Type')\n",
        "\n",
        "sns.scatterplot(data = airbnb_df, x='price', y='number_of_reviews', hue='room_type', ax=ax[1])\n",
        "ax[1].set_title('price vs Number of Reviews')\n",
        "sns.despine(fig, left=True)"
      ],
      "metadata": {
        "id": "TdPTWpAVphqO"
      },
      "execution_count": null,
      "outputs": []
    },
    {
      "cell_type": "markdown",
      "source": [
        "##### 1. Why did you pick the specific chart?"
      ],
      "metadata": {
        "id": "jj7wYXLtphqO"
      }
    },
    {
      "cell_type": "markdown",
      "source": [
        "\n",
        "In first chart shows how neighbourhood group is busy or available for booking throughout year. In later we tried to draw relationshiop between price and no of reviews"
      ],
      "metadata": {
        "id": "Ob8u6rCTphqO"
      }
    },
    {
      "cell_type": "markdown",
      "source": [
        "##### 2. What is/are the insight(s) found from the chart?"
      ],
      "metadata": {
        "id": "eZrbJ2SmphqO"
      }
    },
    {
      "cell_type": "markdown",
      "source": [
        "First chart shows Statan Island is busiest among all even for least demanded shared room and Manhattan and Brroklyn shows descent bookings and availability.\n",
        "\n",
        "Second chart shows negative relation between Price and no of reviews. Usually cheaper rooms has more occupancy hence more reviews."
      ],
      "metadata": {
        "id": "mZtgC_hjphqO"
      }
    },
    {
      "cell_type": "markdown",
      "source": [
        "##### 3. Will the gained insights help creating a positive business impact?\n",
        "Are there any insights that lead to negative growth? Justify with specific reason."
      ],
      "metadata": {
        "id": "rFu4xreNphqO"
      }
    },
    {
      "cell_type": "markdown",
      "source": [
        "The occupancy and/or vacancy in respective areas for different room type can draw attention for different required solution like listing and/or delisting room_type from neighbourhood group. And Price vs Reviews shows booking volume for resonable Booking Price hence revenue generation Price point range."
      ],
      "metadata": {
        "id": "ey_0qi68phqO"
      }
    },
    {
      "cell_type": "markdown",
      "source": [
        "#### Chart - 9 No. of Properties Available 365 days"
      ],
      "metadata": {
        "id": "YJ55k-q6phqO"
      }
    },
    {
      "cell_type": "code",
      "source": [
        "# Chart - 9 visualization code\n",
        "fig = plt.subplots(figsize=(6,6))\n",
        "\n",
        "sns.countplot(data=airbnb_df[airbnb_df[\"availability_365\"] == 365], x='neighbourhood-group', hue='room_type', palette='GnBu_d')\n",
        "plt.title('No. of properties Available 365 days', fontsize=12)\n",
        "plt.show()"
      ],
      "metadata": {
        "id": "B2aS4O1ophqO"
      },
      "execution_count": null,
      "outputs": []
    },
    {
      "cell_type": "markdown",
      "source": [
        "##### 1. Why did you pick the specific chart?"
      ],
      "metadata": {
        "id": "gCFgpxoyphqP"
      }
    },
    {
      "cell_type": "markdown",
      "source": [
        "This chart will give us idea about availability of room_type in respective neighbourhood group."
      ],
      "metadata": {
        "id": "TVxDimi2phqP"
      }
    },
    {
      "cell_type": "markdown",
      "source": [
        "##### 2. What is/are the insight(s) found from the chart?"
      ],
      "metadata": {
        "id": "OVtJsKN_phqQ"
      }
    },
    {
      "cell_type": "markdown",
      "source": [
        "This subplot gives us clear picture i.e. \"Trend\" of room_type available most during a year. e.g. Private room has most availability round the year except in Manhattan and least availability in Shared room irrespective of Neighbourhood group."
      ],
      "metadata": {
        "id": "ngGi97qjphqQ"
      }
    },
    {
      "cell_type": "markdown",
      "source": [
        "##### 3. Will the gained insights help creating a positive business impact?\n",
        "Are there any insights that lead to negative growth? Justify with specific reason."
      ],
      "metadata": {
        "id": "lssrdh5qphqQ"
      }
    },
    {
      "cell_type": "markdown",
      "source": [
        "The above Subplot shows us which room type in which neighbourhood group has most as well as least availability throughout the year. Hence this data can be for listing and delisting demanded and least asked room type resp.\n",
        "\n",
        "Negative Insight - In Manhattan we get to know that Entire home/apt has most availability round the year and in earlier charts we also know that same room_type has most booking but vacancy also most maybe due to more listing of same room_type in the area."
      ],
      "metadata": {
        "id": "tBpY5ekJphqQ"
      }
    },
    {
      "cell_type": "markdown",
      "source": [
        "#### Chart - 10  average prefered price at every neighbourhood group as per type of room"
      ],
      "metadata": {
        "id": "U2RJ9gkRphqQ"
      }
    },
    {
      "cell_type": "code",
      "source": [
        "# Chart - 10 visualization code\n",
        "# chart average prefered price at every neighbourhood group as per type of room\n",
        "avg_price_df = airbnb_df.groupby(['neighbourhood_group','room_type'])['price'].mean().unstack()\n",
        "avg_price_df"
      ],
      "metadata": {
        "id": "GM7a4YP4phqQ"
      },
      "execution_count": null,
      "outputs": []
    },
    {
      "cell_type": "code",
      "source": [
        "avg_price_df.plot.bar(figsize=(10,5),ylabel='Average price calculated')"
      ],
      "metadata": {
        "id": "fgU6bp5JAS5u"
      },
      "execution_count": null,
      "outputs": []
    },
    {
      "cell_type": "markdown",
      "source": [
        "##### 1. Why did you pick the specific chart?"
      ],
      "metadata": {
        "id": "1M8mcRywphqQ"
      }
    },
    {
      "cell_type": "markdown",
      "source": [
        "\n",
        "This chart gives us idea about relationship between Price and Room_type in different neighbourhood_group. In this bar plot we are getting the price comparison of each room type in different neighbourhood groups.\n",
        "\n"
      ],
      "metadata": {
        "id": "8agQvks0phqQ"
      }
    },
    {
      "cell_type": "markdown",
      "source": [
        "##### 2. What is/are the insight(s) found from the chart?"
      ],
      "metadata": {
        "id": "tgIPom80phqQ"
      }
    },
    {
      "cell_type": "markdown",
      "source": [
        "This chart clearly shows some trends in price and room type wrt neighbourhood groups. This chart shows Entire home/apt has highest average price followed by Private room and Shared room. And this chart also shows Manhattan gives us most average price compared to other neighbourhood groups."
      ],
      "metadata": {
        "id": "Qp13pnNzphqQ"
      }
    },
    {
      "cell_type": "markdown",
      "source": [
        "##### 3. Will the gained insights help creating a positive business impact?\n",
        "Are there any insights that lead to negative growth? Justify with specific reason."
      ],
      "metadata": {
        "id": "JMzcOPDDphqR"
      }
    },
    {
      "cell_type": "markdown",
      "source": [
        "This chart gives us good business insight about revenue realisation like from which room type and which neighbourhood group are going to give us highest monetary benefits for ultimate goal of profit.\n",
        "\n",
        "Negative Insight: If this chart insight gets to the hosts then they won't be that much attracted towards low avg room type as well as neighbourhood group, hence business expansion may face hurdle."
      ],
      "metadata": {
        "id": "R4Ka1PC2phqR"
      }
    },
    {
      "cell_type": "markdown",
      "source": [
        "#### Chart - 11"
      ],
      "metadata": {
        "id": "x-EpHcCOp1ci"
      }
    },
    {
      "cell_type": "code",
      "source": [
        "# Chart - 11 visualization code\n",
        "#Busiest_host\n",
        "busiest_hosts = airbnb_df.groupby(['host_name', 'host_id','room_type'])['number_of_reviews'].max().reset_index()\n",
        "busiest_hosts = busiest_hosts.sort_values(by='number_of_reviews', ascending=False).head(10)\n",
        "busiest_hosts"
      ],
      "metadata": {
        "id": "mAQTIvtqp1cj"
      },
      "execution_count": null,
      "outputs": []
    },
    {
      "cell_type": "code",
      "source": [
        "name = busiest_hosts['host_name']\n",
        "reviews = busiest_hosts['number_of_reviews']\n",
        "\n",
        "fig = plt.figure(figsize = (8, 5))\n",
        "plt.bar(name, reviews, color ='chocolate', width = 0.4)\n",
        "plt.xlabel(\"Name of the Host\")\n",
        "plt.ylabel(\"Number of Reviews\")\n",
        "plt.title(\"Busiest Hosts\", fontsize=14)\n",
        "plt.show()"
      ],
      "metadata": {
        "id": "4TgCboILA7g2"
      },
      "execution_count": null,
      "outputs": []
    },
    {
      "cell_type": "markdown",
      "source": [
        "##### 1. Why did you pick the specific chart?"
      ],
      "metadata": {
        "id": "X_VqEhTip1ck"
      }
    },
    {
      "cell_type": "markdown",
      "source": [
        "This is best chart which give us idea about which kind of room_type having which facilities attract most number of customers."
      ],
      "metadata": {
        "id": "-vsMzt_np1ck"
      }
    },
    {
      "cell_type": "markdown",
      "source": [
        "##### 2. What is/are the insight(s) found from the chart?"
      ],
      "metadata": {
        "id": "8zGJKyg5p1ck"
      }
    },
    {
      "cell_type": "markdown",
      "source": [
        "This chart shows that busiest hosts in top 10 are mostly Private room and few entire home/apt. That shows Private rooms have high frequncy compared to others."
      ],
      "metadata": {
        "id": "ZYdMsrqVp1ck"
      }
    },
    {
      "cell_type": "markdown",
      "source": [
        "##### 3. Will the gained insights help creating a positive business impact?\n",
        "Are there any insights that lead to negative growth? Justify with specific reason."
      ],
      "metadata": {
        "id": "PVzmfK_Ep1ck"
      }
    },
    {
      "cell_type": "markdown",
      "source": [
        "We can use busiest hosts experience and their room type for our understanding like locality, facilities, aesthetics, service by which customer getting satisfied and paying more number of visits. Accordingly we can arrange training for our host community for making positive impact like these hosts."
      ],
      "metadata": {
        "id": "druuKYZpp1ck"
      }
    },
    {
      "cell_type": "markdown",
      "source": [
        "#### Chart - 12"
      ],
      "metadata": {
        "id": "n3dbpmDWp1ck"
      }
    },
    {
      "cell_type": "code",
      "source": [
        "# Chart - 12 visualization code\n",
        "#Most important finding outliers in Price variable\n",
        "# Split the dataset by room type\n",
        "entire_home_apt = airbnb_df[airbnb_df['room_type'] == 'Entire home/apt']\n",
        "private_room = airbnb_df[airbnb_df['room_type'] == 'Private room']\n",
        "shared_room = airbnb_df[airbnb_df['room_type'] == 'Shared room']\n",
        "\n",
        "# Create boxplots for price\n",
        "fig, axs = plt.subplots(1, 3, figsize=(15, 5))\n",
        "axs[0].boxplot(entire_home_apt['price'])\n",
        "axs[0].set_title('Entire home/apt')\n",
        "axs[1].boxplot(private_room['price'])\n",
        "axs[1].set_title('Private room')\n",
        "axs[2].boxplot(shared_room['price'])\n",
        "axs[2].set_title('Shared room')\n",
        "plt.show()\n",
        "#This shows that price variable has many outliers in each room_type, need to be removed."
      ],
      "metadata": {
        "id": "bwevp1tKp1ck"
      },
      "execution_count": null,
      "outputs": []
    },
    {
      "cell_type": "code",
      "source": [
        "# Remove outliers from price variable for each room_type\n",
        "def remove_outliers(data):\n",
        "    Q1 = np.percentile(data['price'], 25)\n",
        "    Q3 = np.percentile(data['price'], 75)\n",
        "    IQR = Q3 - Q1\n",
        "    upper_bound = Q3 + 1.5 * IQR\n",
        "    lower_bound = Q1 - 1.5 * IQR\n",
        "    data1 = data[(data['price'] >= lower_bound) & (data['price'] <= upper_bound)]\n",
        "    return data1\n",
        "\n",
        "entire_home_apt1 = remove_outliers(entire_home_apt)\n",
        "private_room1 = remove_outliers(private_room)\n",
        "shared_room1 = remove_outliers(shared_room)\n",
        "\n",
        "# Combine the datasets in combined_df\n",
        "combined_df = pd.concat([entire_home_apt1, private_room1, shared_room1], axis=0)"
      ],
      "metadata": {
        "id": "YZYoal8OBPBQ"
      },
      "execution_count": null,
      "outputs": []
    },
    {
      "cell_type": "code",
      "source": [
        "fig, axes = plt.subplots(nrows=1, ncols=2, figsize=(20, 6))\n",
        "ax = axes.flatten()\n",
        "\n",
        "# Show the final boxplot without outliers\n",
        "sns.boxplot(x='room_type', y='price', data=combined_df, ax=ax[0])\n",
        "\n",
        "#distplot gives us univariate here price distribution of observation.\n",
        "sns.distplot(combined_df['price'], ax=ax[1])"
      ],
      "metadata": {
        "id": "4orISVBRBRU2"
      },
      "execution_count": null,
      "outputs": []
    },
    {
      "cell_type": "markdown",
      "source": [
        "##### 1. Why did you pick the specific chart?"
      ],
      "metadata": {
        "id": "ylSl6qgtp1ck"
      }
    },
    {
      "cell_type": "markdown",
      "source": [
        "We chose this graphs to know the Price distribution in overall and within room type"
      ],
      "metadata": {
        "id": "m2xqNkiQp1ck"
      }
    },
    {
      "cell_type": "markdown",
      "source": [
        "##### 2. What is/are the insight(s) found from the chart?"
      ],
      "metadata": {
        "id": "ZWILFDl5p1ck"
      }
    },
    {
      "cell_type": "markdown",
      "source": [
        "From the above three Price graphs gives clearer picture of Min & Max Price, most important it shows us Price density between $1-300 but Price point extends upto 10000 dollar for some properties luxury villas also have customers."
      ],
      "metadata": {
        "id": "x-lUsV2mp1ck"
      }
    },
    {
      "cell_type": "markdown",
      "source": [
        "##### 3. Will the gained insights help creating a positive business impact?\n",
        "Are there any insights that lead to negative growth? Justify with specific reason."
      ],
      "metadata": {
        "id": "M7G43BXep1ck"
      }
    },
    {
      "cell_type": "markdown",
      "source": [
        "The business point of view we have to list maximum properties in average booking amount of $1-300 to maximize booking frequency for host and also focus on listing of few luxurious properties to fullfill the need of rare but high paying customers."
      ],
      "metadata": {
        "id": "5wwDJXsLp1cl"
      }
    },
    {
      "cell_type": "markdown",
      "source": [
        "#### Chart - 13"
      ],
      "metadata": {
        "id": "Ag9LCva-p1cl"
      }
    },
    {
      "cell_type": "code",
      "source": [
        "# Chart - 13 visualization code\n",
        "\n",
        "fig, axes = plt.subplots(nrows=1, ncols=2, figsize=(20, 6))\n",
        "ax = axes.flatten()\n",
        "\n",
        "sns.violinplot(data=combined_df, x='neighbourhood_group', y='price', ax=ax[0])\n",
        "\n",
        "sns.violinplot(data=combined_df, x='neighbourhood_group', y='price', hue='room_type')"
      ],
      "metadata": {
        "id": "EUfxeq9-p1cl"
      },
      "execution_count": null,
      "outputs": []
    },
    {
      "cell_type": "markdown",
      "source": [
        "##### 1. Why did you pick the specific chart?"
      ],
      "metadata": {
        "id": "E6MkPsBcp1cl"
      }
    },
    {
      "cell_type": "markdown",
      "source": [
        "After lot of deliberations picked the Violinplot to get clearer picture of most demanded price bracket for neighbourhood_group as well as room_type"
      ],
      "metadata": {
        "id": "V22bRsFWp1cl"
      }
    },
    {
      "cell_type": "markdown",
      "source": [
        "##### 2. What is/are the insight(s) found from the chart?"
      ],
      "metadata": {
        "id": "2cELzS2fp1cl"
      }
    },
    {
      "cell_type": "markdown",
      "source": [
        "Above five violinplot for respective neighbourhood_group shows us that most demanded price range $50-100 in everywhere except Manhattan where considerable booking happens above 100 price as well."
      ],
      "metadata": {
        "id": "ozQPc2_Ip1cl"
      }
    },
    {
      "cell_type": "markdown",
      "source": [
        "##### 3. Will the gained insights help creating a positive business impact?\n",
        "Are there any insights that lead to negative growth? Justify with specific reason."
      ],
      "metadata": {
        "id": "3MPXvC8up1cl"
      }
    },
    {
      "cell_type": "markdown",
      "source": [
        "For the bisiness perspective company should make adequate listings in demanded price bracket and also above average price range because some Guests are ready to pay for luxury and better services.\n",
        "\n",
        "Most important 2nd plot shows Private room and Shared room doen't fetch considerable booking beyond this price bracket."
      ],
      "metadata": {
        "id": "GL8l1tdLp1cl"
      }
    },
    {
      "cell_type": "markdown",
      "source": [
        "#### Chart - 14 - Correlation Heatmap"
      ],
      "metadata": {
        "id": "NC_X3p0fY2L0"
      }
    },
    {
      "cell_type": "code",
      "source": [
        "# Correlation Heatmap visualization code\n",
        "corr = airbnb_df.corr(method = 'kendall')\n",
        "plt.figure(figsize= (10,8))\n",
        "sns.heatmap(corr, annot =True)\n",
        "airbnb_df.columns"
      ],
      "metadata": {
        "id": "xyC9zolEZNRQ"
      },
      "execution_count": null,
      "outputs": []
    },
    {
      "cell_type": "markdown",
      "source": [
        "##### 1. Why did you pick the specific chart?"
      ],
      "metadata": {
        "id": "UV0SzAkaZNRQ"
      }
    },
    {
      "cell_type": "markdown",
      "source": [
        "The Correlation Heatmap shows us visual bi-variate correlation and relationship between numerical columns of Dataframe in the form of colour shades. We get quick visualisation of large amount of data."
      ],
      "metadata": {
        "id": "DVPuT8LYZNRQ"
      }
    },
    {
      "cell_type": "markdown",
      "source": [
        "##### 2. What is/are the insight(s) found from the chart?"
      ],
      "metadata": {
        "id": "YPEH6qLeZNRQ"
      }
    },
    {
      "cell_type": "markdown",
      "source": [
        "In the Heatmap Matrix some variables with some other have positive correlation and some also have negative correlation. e.g.\n",
        "\n",
        "Positive corr : Number_of_reviews and reviews_per_month, calculated_host_listings_count and availability_365\n",
        "\n",
        "Negative corr : price and longitude, number_of_reviews and id, reviews_per_month and minimum_nights"
      ],
      "metadata": {
        "id": "bfSqtnDqZNRR"
      }
    },
    {
      "cell_type": "markdown",
      "source": [
        "#### Chart - 15 - Pair Plot"
      ],
      "metadata": {
        "id": "q29F0dvdveiT"
      }
    },
    {
      "cell_type": "code",
      "source": [
        "# Pair Plot visualization code\n",
        "\n",
        "#Pair Plot visualization of outlier cleaned data\n",
        "\n",
        "sns.pairplot(combined_df, hue='room_type',\n",
        "             x_vars=['price', 'number_of_reviews','reviews_per_month','availability_365'],\n",
        "             y_vars=['price', 'number_of_reviews','reviews_per_month','availability_365'],\n",
        "             kind='scatter', diag_kind= 'hist')"
      ],
      "metadata": {
        "id": "o58-TEIhveiU"
      },
      "execution_count": null,
      "outputs": []
    },
    {
      "cell_type": "markdown",
      "source": [
        "##### 1. Why did you pick the specific chart?"
      ],
      "metadata": {
        "id": "EXh0U9oCveiU"
      }
    },
    {
      "cell_type": "markdown",
      "source": [
        "The Pair plot is perfect example for showing correlation between any two required numerical variable in given dataset. It gives all considered charts in one grid like Dashboard"
      ],
      "metadata": {
        "id": "eMmPjTByveiU"
      }
    },
    {
      "cell_type": "markdown",
      "source": [
        "##### 2. What is/are the insight(s) found from the chart?"
      ],
      "metadata": {
        "id": "22aHeOlLveiV"
      }
    },
    {
      "cell_type": "markdown",
      "source": [
        "The relationship between two variables and formation of separated clustres shows some insight like Price and No of reviews have negative relationship, more price less number of reviews per month, reviews per month vs availability_365 shows less than 20 reviews per month, clustre of availability_365 vs price shows entire home/apt properties available for higher prices etc.\n",
        "\n",
        "Histogram shows every variable has its frequency, distribution and density. Also shows characteristics of skewness."
      ],
      "metadata": {
        "id": "uPQ8RGwHveiV"
      }
    },
    {
      "cell_type": "markdown",
      "source": [
        "## **5. Solution to Business Objective**"
      ],
      "metadata": {
        "id": "JcMwzZxoAimU"
      }
    },
    {
      "cell_type": "markdown",
      "source": [
        "#### What do you suggest the client to achieve Business Objective ?\n",
        "Explain Briefly."
      ],
      "metadata": {
        "id": "8G2x9gOozGDZ"
      }
    },
    {
      "cell_type": "markdown",
      "source": [
        "We have find out the Top 20 neighbourhoods where number of booking is high, we can focus on those areas for marketting campaigns and advertisements for maximize booking and reduce marketting cost by redcing the focus areas.\n",
        "\n",
        "Most of the guests doesn't prefer shared rooms rather choose entire home/apt and private room. Manhattan and Brooklyn are most demanded neighbourhood groups.\n",
        "\n",
        "The average stays in Entire home/apt, Shared room and Private room are 8, 6 and 5 days approx. resp. Get to know the average number of booking for respective room type in a month.\n",
        "\n",
        "Most subscribed booking price is come within the bracket of $10-400 where almost 95% booking happens as well as most reviews are also given by these guests. One more thing Private room and Entire home/apt gives most number of reviews.\n",
        "\n",
        "Maximum listings done by a top hosts are also concentrated in Manhattan and Brooklyn like higher prices and most bookings. We can say that hosts are also inclined to Manhattan and Brooklyn due to higher price realisation and more booking as we know from earlier charts; so we can ask more comission from hosts here and realise more profit."
      ],
      "metadata": {
        "id": "pASKb0qOza21"
      }
    },
    {
      "cell_type": "markdown",
      "source": [
        "# **Conclusion**"
      ],
      "metadata": {
        "id": "gCX9965dhzqZ"
      }
    },
    {
      "cell_type": "markdown",
      "source": [
        "From the above Exploratory Data Analysis of Airbnb Dataset we can conclude that:\n",
        "* Manhattan and Brooklyn are the two distinguished, expensive & posh areas of NY. Though location of property has high effect on deciding price, but a property in popular location doesn't mean it will stay occupied in most of the time.\n",
        "\n",
        "* The people who prefer to stay in Entire home or Apartment they are going to stay bit longer and same is the most booked room type in the Neighbourhood group.\n",
        "\n",
        "* The findings from an exploratory data analysis project on Airbnb can help both hosts and guests make more informed decisions. Hosts can learn more about what amenities guests are looking for and how to price their property competitively. On the other hand, guests can follow some parameteres to make decisions about the location, amenities, and price of properties they want to book.\n",
        "\n",
        "The given Airbnb Dataset has vast data but lacks in some required features because it is not easy to decide property valuation. Overall, conducting an exploratory data analysis project on Airbnb can provide valuable insights into the dynamics of the short-term rental market and enhance the user experience for both hosts and guests."
      ],
      "metadata": {
        "id": "Fjb1IsQkh3yE"
      }
    },
    {
      "cell_type": "markdown",
      "source": [
        "### ***Hurrah! successfully completed EDA Capstone Project !!!***"
      ],
      "metadata": {
        "id": "gIfDvo9L0UH2"
      }
    }
  ]
}